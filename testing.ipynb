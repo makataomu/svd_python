{
 "cells": [
  {
   "cell_type": "code",
   "execution_count": 1,
   "metadata": {},
   "outputs": [],
   "source": [
    "from typing import Tuple, List\n",
    "from matrix import Matrix"
   ]
  },
  {
   "cell_type": "code",
   "execution_count": 2,
   "metadata": {},
   "outputs": [],
   "source": [
    "m1 = Matrix([[1, 2, 3], [4, 5, 6], [7, 8, 9]])\n",
    "m1_t = m1.transpose()\n",
    "aat = m1.multiply(m1_t) # a x at\n",
    "ata = m1_t.multiply(m1) # at x a"
   ]
  },
  {
   "cell_type": "code",
   "execution_count": 158,
   "metadata": {},
   "outputs": [],
   "source": [
    "def power_iteration(matrix: 'Matrix', max_iter=1000, tol=1e-10) -> Tuple[float, List[float]]:\n",
    "    n = matrix.rows\n",
    "    b_k = [1] * n  # Initial guess for the eigenvector\n",
    "\n",
    "    for _ in range(max_iter):\n",
    "        # Multiply matrix by the vector\n",
    "        b_k1 = [sum(matrix.get(i, j) * b_k[j] for j in range(n)) for i in range(n)]\n",
    "        \n",
    "        # Normalize the resulting vector\n",
    "        norm = sum(b_k1[i] ** 2 for i in range(n)) ** 0.5\n",
    "        b_k1 = [x / norm for x in b_k1]\n",
    "\n",
    "        # Check for convergence\n",
    "        if sum((b_k1[i] - b_k[i]) ** 2 for i in range(n)) < tol:\n",
    "            break\n",
    "\n",
    "        b_k = b_k1\n",
    "\n",
    "    # Rayleigh quotient gives an approximation of the eigenvalue\n",
    "    eigenvalue = sum(b_k[i] * sum(matrix.get(i, j) * b_k[j] for j in range(n)) for i in range(n))\n",
    "    return eigenvalue, b_k\n"
   ]
  },
  {
   "cell_type": "code",
   "execution_count": 159,
   "metadata": {},
   "outputs": [],
   "source": [
    "def deflate(matrix: 'Matrix', eigenvalue: float, eigenvector: List[float]) -> 'Matrix':\n",
    "    n = matrix.rows\n",
    "    outer_product = [\n",
    "        [eigenvector[i] * eigenvector[j] for j in range(n)]\n",
    "        for i in range(n)\n",
    "    ]\n",
    "    return matrix.add(Matrix([[-eigenvalue * outer_product[i][j] for j in range(n)] for i in range(n)]))\n"
   ]
  },
  {
   "cell_type": "code",
   "execution_count": 160,
   "metadata": {},
   "outputs": [],
   "source": [
    "def eigen_decomposition(matrix: 'Matrix', num_eigenvalues: int) -> Tuple[List[float], List[List[float]]]:\n",
    "    eigenvalues = []\n",
    "    eigenvectors = []\n",
    "    current_matrix = matrix\n",
    "\n",
    "    for _ in range(num_eigenvalues):\n",
    "        eigenvalue, eigenvector = power_iteration(current_matrix)\n",
    "        eigenvalues.append(eigenvalue)\n",
    "        eigenvectors.append(eigenvector)\n",
    "        current_matrix = deflate(current_matrix, eigenvalue, eigenvector)\n",
    "\n",
    "    print(eigenvalues, eigenvectors)\n",
    "    \n",
    "    return eigenvalues, eigenvectors\n"
   ]
  },
  {
   "cell_type": "code",
   "execution_count": 161,
   "metadata": {},
   "outputs": [],
   "source": [
    "def compute_singular_values(ata_matrix: 'Matrix') -> List[float]:\n",
    "    eigenvalues, _ = eigen_decomposition(ata_matrix, ata_matrix.rows)\n",
    "    return [eigenvalue ** 0.5 if eigenvalue >= 0 else 0 for eigenvalue in eigenvalues]\n"
   ]
  },
  {
   "cell_type": "code",
   "execution_count": 162,
   "metadata": {},
   "outputs": [],
   "source": [
    "def normalize_vector(vector: List[float]) -> List[float]:\n",
    "    # Calculate the magnitude (Euclidean norm) of the vector\n",
    "    magnitude = sum(x ** 2 for x in vector) ** 0.5\n",
    "    \n",
    "    # Avoid division by zero if the magnitude is zero\n",
    "    if magnitude == 0:\n",
    "        raise ValueError(\"Cannot normalize a zero vector.\")\n",
    "    \n",
    "    # Divide each component of the vector by the magnitude\n",
    "    return [x / magnitude for x in vector]"
   ]
  },
  {
   "cell_type": "code",
   "execution_count": 163,
   "metadata": {},
   "outputs": [],
   "source": [
    "from typing import List\n",
    "\n",
    "def dot_product(v1: List[float], v2: List[float]) -> float:\n",
    "    \"\"\"Helper function to compute the dot product of two vectors.\"\"\"\n",
    "    return sum(x * y for x, y in zip(v1, v2))\n",
    "\n",
    "def scalar_multiply(scalar: float, vector: List[float]) -> List[float]:\n",
    "    \"\"\"Helper function to multiply a vector by a scalar.\"\"\"\n",
    "    return [scalar * x for x in vector]\n",
    "\n",
    "def vector_subtract(v1: List[float], v2: List[float]) -> List[float]:\n",
    "    \"\"\"Helper function to subtract two vectors.\"\"\"\n",
    "    return [x - y for x, y in zip(v1, v2)]\n",
    "\n",
    "def normalize_vector(vector: List[float]) -> List[float]:\n",
    "    \"\"\"Normalize a vector to have unit length.\"\"\"\n",
    "    magnitude = (sum(x ** 2 for x in vector)) ** 0.5\n",
    "    if magnitude == 0:\n",
    "        raise ValueError(\"Cannot normalize a zero vector.\")\n",
    "    return [x / magnitude for x in vector]\n",
    "\n",
    "def gram_schmidt(vectors: List[List[float]]) -> List[List[float]]:\n",
    "    \"\"\"Apply Gram-Schmidt process to make a set of vectors orthonormal.\"\"\"\n",
    "    orthonormal_vectors = []\n",
    "    \n",
    "    for v in vectors:\n",
    "        # Start with the current vector\n",
    "        u = v\n",
    "        \n",
    "        # Subtract the projection of v onto each previously computed u_j\n",
    "        for u_prev in orthonormal_vectors:\n",
    "            projection = scalar_multiply(dot_product(v, u_prev) / dot_product(u_prev, u_prev), u_prev)\n",
    "            u = vector_subtract(u, projection)\n",
    "        \n",
    "        # Normalize the resulting vector\n",
    "        u = normalize_vector(u)\n",
    "        \n",
    "        # Add the orthonormalized vector to the list\n",
    "        orthonormal_vectors.append(u)\n",
    "    \n",
    "    return orthonormal_vectors\n"
   ]
  },
  {
   "cell_type": "code",
   "execution_count": 164,
   "metadata": {},
   "outputs": [],
   "source": [
    "def svd(a: 'Matrix') -> Tuple['Matrix', 'Matrix', 'Matrix']:\n",
    "    a_t = a.transpose()\n",
    "    aat = a.multiply(a_t) # a x at\n",
    "    ata = a_t.multiply(a)\n",
    "\n",
    "    # Step 2: Compute singular values\n",
    "    singular_values = compute_singular_values(aat) \n",
    "\n",
    "    # Step 3: Eigenvector decomposition to get U and V\n",
    "    _, U_vectors = eigen_decomposition(aat, aat.rows)\n",
    "    _, V_vectors = eigen_decomposition(ata, ata.cols)\n",
    "\n",
    "    U_vectors = gram_schmidt(U_vectors)\n",
    "    \n",
    "    # Step 4: Construct U, Sigma, V^T\n",
    "    U = Matrix(U_vectors)\n",
    "    Sigma = Matrix([[singular_values[i] if i == j else 0 for j in range(a.cols)] for i in range(a.rows)])\n",
    "    V = Matrix(V_vectors)\n",
    "    \n",
    "    return U, Sigma, V.transpose()\n"
   ]
  },
  {
   "cell_type": "code",
   "execution_count": 165,
   "metadata": {},
   "outputs": [
    {
     "name": "stdout",
     "output_type": "stream",
     "text": [
      "[3.9999999996507536, 1.0000000013969839, -2.0956045374773395e-09] [[1.0789593218160839e-05, 0.7071067811453885, 0.7071067811453885], [0.9999999990686135, -3.0518625906418764e-05, -3.0518625906418764e-05], [-0.5773266233965968, 0.5773620917229864, 0.5773620917229864]]\n",
      "[3.9999999996507536, 1.0000000013969839, -2.0956045374773395e-09] [[1.0789593218160839e-05, 0.7071067811453885, 0.7071067811453885], [0.9999999990686135, -3.0518625906418764e-05, -3.0518625906418764e-05], [-0.5773266233965968, 0.5773620917229864, 0.5773620917229864]]\n",
      "[3.9999999996507536, 1.0000000013969839, -2.0956045374773395e-09] [[1.0789593218160839e-05, 0.7071067811453885, 0.7071067811453885], [0.9999999990686135, -3.0518625906418764e-05, -3.0518625906418764e-05], [-0.5773266233965968, 0.5773620917229864, 0.5773620917229864]]\n"
     ]
    }
   ],
   "source": [
    "a = Matrix([[1,0,0], [0,3,-1], [0,-1,3]])\n",
    "# u, s, v_t = svd(m1)\n",
    "u, s, v_t = svd(a)"
   ]
  },
  {
   "cell_type": "code",
   "execution_count": 166,
   "metadata": {},
   "outputs": [
    {
     "name": "stdout",
     "output_type": "stream",
     "text": [
      "1.0789593218160839e-05\t0.7071067811453885\t0.7071067811453885\n",
      "0.9999999999417923\t-7.6293945308059176e-06\t-7.6293945308059176e-06\n",
      "0.0\t0.7071067811865475\t0.7071067811865475\n",
      "1.9999999999126883\t0\t0\n",
      "0\t1.000000000698492\t0\n",
      "0\t0\t0\n",
      "1.0789593218160839e-05\t0.9999999990686135\t-0.5773266233965968\n",
      "0.7071067811453885\t-3.0518625906418764e-05\t0.5773620917229864\n",
      "0.7071067811453885\t-3.0518625906418764e-05\t0.5773620917229864\n"
     ]
    },
    {
     "data": {
      "text/plain": [
       "(None, None, None)"
      ]
     },
     "execution_count": 166,
     "metadata": {},
     "output_type": "execute_result"
    }
   ],
   "source": [
    "print(u), print(s), print(v_t)"
   ]
  },
  {
   "cell_type": "code",
   "execution_count": 167,
   "metadata": {},
   "outputs": [
    {
     "name": "stdout",
     "output_type": "stream",
     "text": [
      "0.500000000523869\t-7.4092946038398e-10\t0.408244192279933\n",
      "1.618438982158892e-05\t1.9999999981663386\t-1.1546576515987645\n",
      "0.500000000320142\t-2.1579927345997557e-05\t0.408256650542537\n"
     ]
    }
   ],
   "source": [
    "print(u.multiply(s).multiply(v_t))"
   ]
  },
  {
   "cell_type": "code",
   "execution_count": 154,
   "metadata": {},
   "outputs": [
    {
     "data": {
      "text/plain": [
       "[[14, 32, 50], [32, 77, 122], [50, 122, 194]]"
      ]
     },
     "execution_count": 154,
     "metadata": {},
     "output_type": "execute_result"
    }
   ],
   "source": [
    "A"
   ]
  }
 ],
 "metadata": {
  "kernelspec": {
   "display_name": "Python 3",
   "language": "python",
   "name": "python3"
  },
  "language_info": {
   "codemirror_mode": {
    "name": "ipython",
    "version": 3
   },
   "file_extension": ".py",
   "mimetype": "text/x-python",
   "name": "python",
   "nbconvert_exporter": "python",
   "pygments_lexer": "ipython3",
   "version": "3.10.2"
  }
 },
 "nbformat": 4,
 "nbformat_minor": 2
}
